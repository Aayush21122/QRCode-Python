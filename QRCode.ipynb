{
 "cells": [
  {
   "cell_type": "code",
   "execution_count": 3,
   "metadata": {},
   "outputs": [],
   "source": [
    "# Simple QRCode\n",
    "import qrcode as qr\n",
    "data='https://www.youtube.com'\n",
    "qr = qr.make(data)\n",
    "qr.save('simple_qrcode.png')"
   ]
  },
  {
   "cell_type": "code",
   "execution_count": 6,
   "metadata": {},
   "outputs": [],
   "source": [
    "# Colourfull QRCode\n",
    "import qrcode as qr\n",
    "\n",
    "box_size = input(\"Enter the size to QRCode you want to generate.\")\n",
    "border = input(\"Enter the size of border.\")\n",
    "link = input(\"Enter Link of which you want to make QRCode.\")\n",
    "fill_color = input(\"Enter the QRCode Colour.\")\n",
    "back_color = input(\"Enter the background colour of QRCOde.\")\n",
    "\n",
    "qr_code = qr.QRCode(version=1,error_correction=qr.ERROR_CORRECT_H,box_size=box_size,border=border)\n",
    "qr_code.add_data(link)\n",
    "qr_code.make(fit=True)\n",
    "img = qr_code.make_image(fill_color=fill_color,back_color=back_color)\n",
    "img.save('QRCode.png')\n"
   ]
  },
  {
   "cell_type": "code",
   "execution_count": null,
   "metadata": {},
   "outputs": [],
   "source": []
  }
 ],
 "metadata": {
  "kernelspec": {
   "display_name": "Python 3",
   "language": "python",
   "name": "python3"
  },
  "language_info": {
   "codemirror_mode": {
    "name": "ipython",
    "version": 3
   },
   "file_extension": ".py",
   "mimetype": "text/x-python",
   "name": "python",
   "nbconvert_exporter": "python",
   "pygments_lexer": "ipython3",
   "version": "3.12.1"
  }
 },
 "nbformat": 4,
 "nbformat_minor": 2
}
