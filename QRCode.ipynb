{
 "cells": [
  {
   "cell_type": "code",
   "execution_count": 3,
   "metadata": {},
   "outputs": [],
   "source": [
    "# Simple QRCode\n",
    "import qrcode as qr\n",
    "data='https://www.youtube.com'\n",
    "qr = qr.make(data)\n",
    "qr.save('qrcode.png')"
   ]
  },
  {
   "cell_type": "code",
   "execution_count": 11,
   "metadata": {},
   "outputs": [],
   "source": [
    "# Colourfull QRCode\n",
    "import qrcode as qr\n",
    "\n",
    "qr_code = qr.QRCode(version=1,error_correction=qr.ERROR_CORRECT_H,box_size=12,border=2)\n",
    "qr_code.add_data('https://www.youtube.com')\n",
    "qr_code.make(fit=True)\n",
    "img = qr_code.make_image(fill_color='black',back_color='gold')\n",
    "img.save('Color_QRCode.png')\n"
   ]
  }
 ],
 "metadata": {
  "kernelspec": {
   "display_name": "Python 3",
   "language": "python",
   "name": "python3"
  },
  "language_info": {
   "codemirror_mode": {
    "name": "ipython",
    "version": 3
   },
   "file_extension": ".py",
   "mimetype": "text/x-python",
   "name": "python",
   "nbconvert_exporter": "python",
   "pygments_lexer": "ipython3",
   "version": "3.12.1"
  }
 },
 "nbformat": 4,
 "nbformat_minor": 2
}
